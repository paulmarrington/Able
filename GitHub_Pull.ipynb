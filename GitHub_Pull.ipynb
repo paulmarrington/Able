{
  "nbformat": 4,
  "nbformat_minor": 0,
  "metadata": {
    "colab": {
      "provenance": [],
      "authorship_tag": "ABX9TyOp3Aetfpnx6gbPVVvUWJVp",
      "include_colab_link": true
    },
    "kernelspec": {
      "name": "python3",
      "display_name": "Python 3"
    },
    "language_info": {
      "name": "python"
    }
  },
  "cells": [
    {
      "cell_type": "markdown",
      "metadata": {
        "id": "view-in-github",
        "colab_type": "text"
      },
      "source": [
        "<a href=\"https://colab.research.google.com/github/paulmarrington/Able/blob/master/GitHub_Pull.ipynb\" target=\"_parent\"><img src=\"https://colab.research.google.com/assets/colab-badge.svg\" alt=\"Open In Colab\"/></a>"
      ]
    },
    {
      "cell_type": "code",
      "execution_count": null,
      "metadata": {
        "id": "MvEPX2S2w9WE",
        "colab": {
          "base_uri": "https://localhost:8080/"
        },
        "outputId": "86191fb2-7027-4b37-9927-33323dbb128a"
      },
      "outputs": [
        {
          "output_type": "stream",
          "name": "stdout",
          "text": [
            "Drive already mounted at /content/drive; to attempt to forcibly remount, call drive.mount(\"/content/drive\", force_remount=True).\n"
          ]
        }
      ],
      "source": [
        "        from google.colab import drive\n",
        "        drive.mount('/content/drive')"
      ]
    },
    {
      "cell_type": "code",
      "source": [
        "%%bash\n",
        "cd /content/drive/MyDrive/GitHub\n",
        "cd Diary\n",
        "git pull\n",
        "cd ../Medical\n",
        "git pull\n",
        "cd ../A_Personal_History\n",
        "git pull"
      ],
      "metadata": {
        "id": "m8AY9bytxGbR",
        "colab": {
          "base_uri": "https://localhost:8080/"
        },
        "outputId": "b45001d7-70d3-4498-bc6c-396528e56774"
      },
      "execution_count": null,
      "outputs": [
        {
          "output_type": "stream",
          "name": "stdout",
          "text": [
            "Already up to date.\n",
            "Already up to date.\n",
            "Already up to date.\n"
          ]
        }
      ]
    }
  ]
}